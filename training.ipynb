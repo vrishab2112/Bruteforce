{
 "cells": [
  {
   "cell_type": "code",
   "execution_count": 1,
   "metadata": {
    "_cell_guid": "b1076dfc-b9ad-4769-8c92-a6c4dae69d19",
    "_uuid": "8f2839f25d086af736a60e9eeb907d3b93b6e0e5"
   },
   "outputs": [
    {
     "name": "stdout",
     "output_type": "stream",
     "text": [
      "Looking in indexes: https://pypi.org/simple, https://pypi.ngc.nvidia.com\n",
      "Requirement already satisfied: bitsandbytes in c:\\users\\ryi3kor\\.conda\\envs\\vitara\\lib\\site-packages (0.46.0)\n",
      "Requirement already satisfied: peft in c:\\users\\ryi3kor\\.conda\\envs\\vitara\\lib\\site-packages (0.15.2)\n",
      "Collecting trl\n",
      "  Downloading trl-0.18.2-py3-none-any.whl.metadata (11 kB)\n",
      "Requirement already satisfied: torch<3,>=2.2 in c:\\users\\ryi3kor\\appdata\\roaming\\python\\python39\\site-packages (from bitsandbytes) (2.7.0+cu126)\n",
      "Requirement already satisfied: numpy>=1.17 in c:\\users\\ryi3kor\\appdata\\roaming\\python\\python39\\site-packages (from bitsandbytes) (1.22.4)\n",
      "Requirement already satisfied: packaging>=20.0 in c:\\users\\ryi3kor\\appdata\\roaming\\python\\python39\\site-packages (from peft) (24.2)\n",
      "Requirement already satisfied: psutil in c:\\users\\ryi3kor\\.conda\\envs\\vitara\\lib\\site-packages (from peft) (7.0.0)\n",
      "Requirement already satisfied: pyyaml in c:\\users\\ryi3kor\\.conda\\envs\\vitara\\lib\\site-packages (from peft) (6.0.2)\n",
      "Requirement already satisfied: transformers in c:\\users\\ryi3kor\\appdata\\roaming\\python\\python39\\site-packages (from peft) (4.52.4)\n",
      "Requirement already satisfied: tqdm in c:\\users\\ryi3kor\\appdata\\roaming\\python\\python39\\site-packages (from peft) (4.67.1)\n",
      "Requirement already satisfied: accelerate>=0.21.0 in c:\\users\\ryi3kor\\.conda\\envs\\vitara\\lib\\site-packages (from peft) (1.6.0)\n",
      "Requirement already satisfied: safetensors in c:\\users\\ryi3kor\\appdata\\roaming\\python\\python39\\site-packages (from peft) (0.5.3)\n",
      "Requirement already satisfied: huggingface_hub>=0.25.0 in c:\\users\\ryi3kor\\appdata\\roaming\\python\\python39\\site-packages (from peft) (0.32.3)\n",
      "Requirement already satisfied: datasets>=3.0.0 in c:\\users\\ryi3kor\\appdata\\roaming\\python\\python39\\site-packages (from trl) (3.6.0)\n",
      "Requirement already satisfied: filelock in c:\\users\\ryi3kor\\.conda\\envs\\vitara\\lib\\site-packages (from datasets>=3.0.0->trl) (3.13.1)\n",
      "Requirement already satisfied: pyarrow>=15.0.0 in c:\\users\\ryi3kor\\appdata\\roaming\\python\\python39\\site-packages (from datasets>=3.0.0->trl) (20.0.0)\n",
      "Requirement already satisfied: dill<0.3.9,>=0.3.0 in c:\\users\\ryi3kor\\appdata\\roaming\\python\\python39\\site-packages (from datasets>=3.0.0->trl) (0.3.8)\n",
      "Requirement already satisfied: pandas in c:\\users\\ryi3kor\\.conda\\envs\\vitara\\lib\\site-packages (from datasets>=3.0.0->trl) (2.2.3)\n",
      "Requirement already satisfied: requests>=2.32.2 in c:\\users\\ryi3kor\\appdata\\roaming\\python\\python39\\site-packages (from datasets>=3.0.0->trl) (2.32.3)\n",
      "Requirement already satisfied: xxhash in c:\\users\\ryi3kor\\appdata\\roaming\\python\\python39\\site-packages (from datasets>=3.0.0->trl) (3.5.0)\n",
      "Requirement already satisfied: multiprocess<0.70.17 in c:\\users\\ryi3kor\\appdata\\roaming\\python\\python39\\site-packages (from datasets>=3.0.0->trl) (0.70.16)\n",
      "Requirement already satisfied: fsspec<=2025.3.0,>=2023.1.0 in c:\\users\\ryi3kor\\appdata\\roaming\\python\\python39\\site-packages (from fsspec[http]<=2025.3.0,>=2023.1.0->datasets>=3.0.0->trl) (2025.3.0)\n",
      "Requirement already satisfied: typing-extensions>=3.7.4.3 in c:\\users\\ryi3kor\\appdata\\roaming\\python\\python39\\site-packages (from huggingface_hub>=0.25.0->peft) (4.12.2)\n",
      "Requirement already satisfied: sympy>=1.13.3 in c:\\users\\ryi3kor\\appdata\\roaming\\python\\python39\\site-packages (from torch<3,>=2.2->bitsandbytes) (1.13.3)\n",
      "Requirement already satisfied: networkx in c:\\users\\ryi3kor\\.conda\\envs\\vitara\\lib\\site-packages (from torch<3,>=2.2->bitsandbytes) (3.2.1)\n",
      "Requirement already satisfied: jinja2 in c:\\users\\ryi3kor\\appdata\\roaming\\python\\python39\\site-packages (from torch<3,>=2.2->bitsandbytes) (3.0.3)\n",
      "Requirement already satisfied: colorama in c:\\users\\ryi3kor\\.conda\\envs\\vitara\\lib\\site-packages (from tqdm->peft) (0.4.6)\n",
      "Requirement already satisfied: regex!=2019.12.17 in c:\\users\\ryi3kor\\appdata\\roaming\\python\\python39\\site-packages (from transformers->peft) (2024.11.6)\n",
      "Requirement already satisfied: tokenizers<0.22,>=0.21 in c:\\users\\ryi3kor\\appdata\\roaming\\python\\python39\\site-packages (from transformers->peft) (0.21.0)\n",
      "Requirement already satisfied: aiohttp!=4.0.0a0,!=4.0.0a1 in c:\\users\\ryi3kor\\appdata\\roaming\\python\\python39\\site-packages (from fsspec[http]<=2025.3.0,>=2023.1.0->datasets>=3.0.0->trl) (3.12.6)\n",
      "Requirement already satisfied: charset-normalizer<4,>=2 in c:\\users\\ryi3kor\\.conda\\envs\\vitara\\lib\\site-packages (from requests>=2.32.2->datasets>=3.0.0->trl) (3.4.1)\n",
      "Requirement already satisfied: idna<4,>=2.5 in c:\\users\\ryi3kor\\.conda\\envs\\vitara\\lib\\site-packages (from requests>=2.32.2->datasets>=3.0.0->trl) (3.10)\n",
      "Requirement already satisfied: urllib3<3,>=1.21.1 in c:\\users\\ryi3kor\\appdata\\roaming\\python\\python39\\site-packages (from requests>=2.32.2->datasets>=3.0.0->trl) (2.3.0)\n",
      "Requirement already satisfied: certifi>=2017.4.17 in c:\\users\\ryi3kor\\.conda\\envs\\vitara\\lib\\site-packages (from requests>=2.32.2->datasets>=3.0.0->trl) (2025.1.31)\n",
      "Requirement already satisfied: mpmath<1.4,>=1.1.0 in c:\\users\\ryi3kor\\.conda\\envs\\vitara\\lib\\site-packages (from sympy>=1.13.3->torch<3,>=2.2->bitsandbytes) (1.3.0)\n",
      "Requirement already satisfied: MarkupSafe>=2.0 in c:\\users\\ryi3kor\\appdata\\roaming\\python\\python39\\site-packages (from jinja2->torch<3,>=2.2->bitsandbytes) (2.0.1)\n",
      "Requirement already satisfied: python-dateutil>=2.8.2 in c:\\users\\ryi3kor\\.conda\\envs\\vitara\\lib\\site-packages (from pandas->datasets>=3.0.0->trl) (2.9.0.post0)\n",
      "Requirement already satisfied: pytz>=2020.1 in c:\\users\\ryi3kor\\.conda\\envs\\vitara\\lib\\site-packages (from pandas->datasets>=3.0.0->trl) (2025.2)\n",
      "Requirement already satisfied: tzdata>=2022.7 in c:\\users\\ryi3kor\\.conda\\envs\\vitara\\lib\\site-packages (from pandas->datasets>=3.0.0->trl) (2025.2)\n",
      "Requirement already satisfied: aiohappyeyeballs>=2.5.0 in c:\\users\\ryi3kor\\appdata\\roaming\\python\\python39\\site-packages (from aiohttp!=4.0.0a0,!=4.0.0a1->fsspec[http]<=2025.3.0,>=2023.1.0->datasets>=3.0.0->trl) (2.6.1)\n",
      "Requirement already satisfied: aiosignal>=1.1.2 in c:\\users\\ryi3kor\\appdata\\roaming\\python\\python39\\site-packages (from aiohttp!=4.0.0a0,!=4.0.0a1->fsspec[http]<=2025.3.0,>=2023.1.0->datasets>=3.0.0->trl) (1.3.2)\n",
      "Requirement already satisfied: async-timeout<6.0,>=4.0 in c:\\users\\ryi3kor\\appdata\\roaming\\python\\python39\\site-packages (from aiohttp!=4.0.0a0,!=4.0.0a1->fsspec[http]<=2025.3.0,>=2023.1.0->datasets>=3.0.0->trl) (4.0.3)\n",
      "Requirement already satisfied: attrs>=17.3.0 in c:\\users\\ryi3kor\\.conda\\envs\\vitara\\lib\\site-packages (from aiohttp!=4.0.0a0,!=4.0.0a1->fsspec[http]<=2025.3.0,>=2023.1.0->datasets>=3.0.0->trl) (25.3.0)\n",
      "Requirement already satisfied: frozenlist>=1.1.1 in c:\\users\\ryi3kor\\appdata\\roaming\\python\\python39\\site-packages (from aiohttp!=4.0.0a0,!=4.0.0a1->fsspec[http]<=2025.3.0,>=2023.1.0->datasets>=3.0.0->trl) (1.6.0)\n",
      "Requirement already satisfied: multidict<7.0,>=4.5 in c:\\users\\ryi3kor\\appdata\\roaming\\python\\python39\\site-packages (from aiohttp!=4.0.0a0,!=4.0.0a1->fsspec[http]<=2025.3.0,>=2023.1.0->datasets>=3.0.0->trl) (6.4.4)\n",
      "Requirement already satisfied: propcache>=0.2.0 in c:\\users\\ryi3kor\\appdata\\roaming\\python\\python39\\site-packages (from aiohttp!=4.0.0a0,!=4.0.0a1->fsspec[http]<=2025.3.0,>=2023.1.0->datasets>=3.0.0->trl) (0.3.1)\n",
      "Requirement already satisfied: yarl<2.0,>=1.17.0 in c:\\users\\ryi3kor\\appdata\\roaming\\python\\python39\\site-packages (from aiohttp!=4.0.0a0,!=4.0.0a1->fsspec[http]<=2025.3.0,>=2023.1.0->datasets>=3.0.0->trl) (1.20.0)\n",
      "Requirement already satisfied: six>=1.5 in c:\\users\\ryi3kor\\.conda\\envs\\vitara\\lib\\site-packages (from python-dateutil>=2.8.2->pandas->datasets>=3.0.0->trl) (1.17.0)\n",
      "Downloading trl-0.18.2-py3-none-any.whl (366 kB)\n",
      "Installing collected packages: trl\n",
      "Successfully installed trl-0.18.2\n"
     ]
    }
   ],
   "source": [
    "!pip3 install bitsandbytes peft trl"
   ]
  },
  {
   "cell_type": "code",
   "execution_count": 7,
   "metadata": {},
   "outputs": [],
   "source": [
    "import os\n",
    "os.environ[\"WANDB_DISABLED\"] = \"true\"\n",
    "\n",
    "from datasets import load_dataset\n",
    "import torch\n",
    "from transformers import Qwen2VLForConditionalGeneration, Qwen2VLProcessor, BitsAndBytesConfig\n",
    "from peft import LoraConfig, get_peft_model\n",
    "from trl import SFTConfig, SFTTrainer\n",
    "\n",
    "import warnings\n",
    "warnings.filterwarnings(\"ignore\")"
   ]
  },
  {
   "cell_type": "code",
   "execution_count": 9,
   "metadata": {},
   "outputs": [
    {
     "name": "stdout",
     "output_type": "stream",
     "text": [
      "Using device: cuda\n",
      "NUM_STEPS: 283\n"
     ]
    }
   ],
   "source": [
    "device = \"cuda\" if torch.cuda.is_available() else \"cpu\"\n",
    "print(f\"Using device: {device}\")\n",
    "\n",
    "MODEL_ID = \"Qwen/Qwen2.5-VL-3B-Instruct\"\n",
    "EPOCHS = 1\n",
    "BATCH_SIZE = 1\n",
    "GRADIENT_CHECKPOINTING = True,  # Tradeoff between memory efficiency and computation time.\n",
    "USE_REENTRANT = False,\n",
    "OPTIM = \"paged_adamw_32bit\"\n",
    "LEARNING_RATE = 2e-5\n",
    "LOGGING_STEPS = 50\n",
    "EVAL_STEPS = 50\n",
    "SAVE_STEPS = 50\n",
    "EVAL_STRATEGY = \"steps\"\n",
    "SAVE_STRATEGY = \"steps\"\n",
    "METRIC_FOR_BEST_MODEL=\"eval_loss\"\n",
    "LOAD_BEST_MODEL_AT_END=True\n",
    "MAX_GRAD_NORM = 1\n",
    "WARMUP_STEPS = 0\n",
    "DATASET_KWARGS={\"skip_prepare_dataset\": True} # We have to put for VLMs\n",
    "REMOVE_UNUSED_COLUMNS = False # VLM thing\n",
    "MAX_SEQ_LEN=128\n",
    "NUM_STEPS = (283 // BATCH_SIZE) * EPOCHS\n",
    "print(f\"NUM_STEPS: {NUM_STEPS}\")"
   ]
  },
  {
   "cell_type": "code",
   "execution_count": 5,
   "metadata": {
    "execution": {
     "iopub.execute_input": "2025-01-05T15:14:14.636519Z",
     "iopub.status.busy": "2025-01-05T15:14:14.636290Z",
     "iopub.status.idle": "2025-01-05T15:14:14.641638Z",
     "shell.execute_reply": "2025-01-05T15:14:14.640437Z",
     "shell.execute_reply.started": "2025-01-05T15:14:14.636500Z"
    }
   },
   "outputs": [],
   "source": [
    "system_message = \"\"\"You are a highly advanced Vision Language Model (VLM), specialized in analyzing, describing, and interpreting visual data. \n",
    "Your task is to process and extract meaningful insights from images,and visual patterns, \n",
    "leveraging multimodal understanding to provide accurate and contextually relevant information.\"\"\"\n",
    "\n",
    "def format_data(sample):\n",
    "    return [\n",
    "        {\n",
    "            \"role\": \"system\",\n",
    "            \"content\": [{\"type\": \"text\", \"text\": system_message}],\n",
    "        },\n",
    "        {\n",
    "            \"role\": \"user\",\n",
    "            \"content\": [\n",
    "                {\n",
    "                    \"type\": \"image\",\n",
    "                    \"image\": sample[\"image\"],\n",
    "                },\n",
    "                {\n",
    "                    \"type\": \"text\",\n",
    "                    \"text\": sample[\"query\"],\n",
    "                },\n",
    "            ],\n",
    "        },\n",
    "        {\n",
    "            \"role\": \"assistant\",\n",
    "            \"content\": [{\"type\": \"text\", \"text\": sample[\"label\"][0]}],\n",
    "        },\n",
    "    ]"
   ]
  },
  {
   "cell_type": "code",
   "execution_count": 6,
   "metadata": {
    "execution": {
     "iopub.execute_input": "2025-01-05T15:14:14.642727Z",
     "iopub.status.busy": "2025-01-05T15:14:14.642421Z",
     "iopub.status.idle": "2025-01-05T15:14:18.252800Z",
     "shell.execute_reply": "2025-01-05T15:14:18.251977Z",
     "shell.execute_reply.started": "2025-01-05T15:14:14.642696Z"
    }
   },
   "outputs": [
    {
     "name": "stdout",
     "output_type": "stream",
     "text": [
      "283\n",
      "------------------------------\n",
      "Dataset({\n",
      "    features: ['image', 'query', 'label', 'human_or_machine'],\n",
      "    num_rows: 283\n",
      "})\n",
      "------------------------------\n",
      "{'image': <PIL.PngImagePlugin.PngImageFile image mode=RGB size=422x359 at 0x7D8C48682BC0>, 'query': 'Is the value of Favorable 38 in 2015?', 'label': ['Yes'], 'human_or_machine': 0}\n",
      "------------------------------\n",
      "283\n",
      "------------------------------\n",
      "[{'role': 'system', 'content': [{'type': 'text', 'text': 'You are a highly advanced Vision Language Model (VLM), specialized in analyzing, describing, and interpreting visual data. \\nYour task is to process and extract meaningful insights from images, videos, and visual patterns, \\nleveraging multimodal understanding to provide accurate and contextually relevant information.'}]}, {'role': 'user', 'content': [{'type': 'image', 'image': <PIL.PngImagePlugin.PngImageFile image mode=RGB size=422x359 at 0x7D8C48682B00>}, {'type': 'text', 'text': 'Is the value of Favorable 38 in 2015?'}]}, {'role': 'assistant', 'content': [{'type': 'text', 'text': 'Yes'}]}]\n",
      "------------------------------\n",
      "25\n",
      "------------------------------\n",
      "[{'role': 'system', 'content': [{'type': 'text', 'text': 'You are a highly advanced Vision Language Model (VLM), specialized in analyzing, describing, and interpreting visual data. \\nYour task is to process and extract meaningful insights from images, videos, and visual patterns, \\nleveraging multimodal understanding to provide accurate and contextually relevant information.'}]}, {'role': 'user', 'content': [{'type': 'image', 'image': <PIL.PngImagePlugin.PngImageFile image mode=RGBA size=850x600 at 0x7D8C48682860>}, {'type': 'text', 'text': 'How many food item is shown in the bar graph?'}]}, {'role': 'assistant', 'content': [{'type': 'text', 'text': '14'}]}]\n"
     ]
    }
   ],
   "source": [
    "train_dataset, eval_dataset, test_dataset = load_dataset(\"HuggingFaceM4/ChartQA\", \n",
    "                                                         split=[\"train[:1%]\", \"val[:1%]\", \"test[:1%]\"])\n",
    "\n",
    "print(len(train_dataset))\n",
    "print(\"-\"*30)\n",
    "print(train_dataset)\n",
    "print(\"-\"*30)\n",
    "print(train_dataset[0])\n",
    "print(\"-\"*30)\n",
    "\n",
    "train_dataset = [format_data(sample) for sample in train_dataset]\n",
    "eval_dataset = [format_data(sample) for sample in eval_dataset]\n",
    "test_dataset = [format_data(sample) for sample in test_dataset]\n",
    "\n",
    "print(len(train_dataset))\n",
    "print(\"-\"*30)\n",
    "print(train_dataset[0])\n",
    "print(\"-\"*30)\n",
    "print(len(test_dataset))\n",
    "print(\"-\"*30)\n",
    "print(test_dataset[0])"
   ]
  },
  {
   "cell_type": "code",
   "execution_count": 7,
   "metadata": {
    "execution": {
     "iopub.execute_input": "2025-01-05T15:14:18.253942Z",
     "iopub.status.busy": "2025-01-05T15:14:18.253624Z",
     "iopub.status.idle": "2025-01-05T15:14:18.297145Z",
     "shell.execute_reply": "2025-01-05T15:14:18.296258Z",
     "shell.execute_reply.started": "2025-01-05T15:14:18.253909Z"
    }
   },
   "outputs": [
    {
     "name": "stdout",
     "output_type": "stream",
     "text": [
      "How many food item is shown in the bar graph?\n",
      "14\n"
     ]
    },
    {
     "data": {
      "image/png": "[encoded data removed]",
      "text/plain": [
       "<PIL.PngImagePlugin.PngImageFile image mode=RGBA size=850x600>"
      ]
     },
     "execution_count": 7,
     "metadata": {},
     "output_type": "execute_result"
    }
   ],
   "source": [
    "sample_data = test_dataset[0]\n",
    "sample_question = test_dataset[0][1][\"content\"][1][\"text\"]\n",
    "sample_answer = test_dataset[0][2][\"content\"][0][\"text\"]\n",
    "sample_image = test_dataset[0][1][\"content\"][0][\"image\"]\n",
    "\n",
    "print(sample_question)\n",
    "print(sample_answer)\n",
    "sample_image"
   ]
  },
  {
   "cell_type": "code",
   "execution_count": 8,
   "metadata": {
    "execution": {
     "iopub.execute_input": "2025-01-05T15:14:18.300278Z",
     "iopub.status.busy": "2025-01-05T15:14:18.300024Z",
     "iopub.status.idle": "2025-01-05T15:15:39.039842Z",
     "shell.execute_reply": "2025-01-05T15:15:39.039104Z",
     "shell.execute_reply.started": "2025-01-05T15:14:18.300252Z"
    }
   },
   "outputs": [
    {
     "name": "stderr",
     "output_type": "stream",
     "text": [
      "`Qwen2VLRotaryEmbedding` can now be fully parameterized by passing the model config through the `config` argument. All other arguments will be removed in v4.46\n"
     ]
    },
    {
     "data": {
      "application/vnd.jupyter.widget-view+json": {
       "model_id": "394fa51a9a6f48ffaf832435a4ba93a4",
       "version_major": 2,
       "version_minor": 0
      },
      "text/plain": [
       "Loading checkpoint shards:   0%|          | 0/5 [00:00<?, ?it/s]"
      ]
     },
     "metadata": {},
     "output_type": "display_data"
    }
   ],
   "source": [
    "if device == \"cuda\":\n",
    "    bnb_config = BitsAndBytesConfig(\n",
    "        load_in_4bit=True,\n",
    "        bnb_4bit_use_double_quant=True,\n",
    "        bnb_4bit_quant_type=\"nf4\",\n",
    "        bnb_4bit_compute_dtype=torch.bfloat16\n",
    "    )\n",
    "    model = Qwen2VLForConditionalGeneration.from_pretrained(\n",
    "        MODEL_ID, \n",
    "        device_map=\"auto\", \n",
    "        quantization_config=bnb_config,\n",
    "        use_cache=False\n",
    "        )\n",
    "\n",
    "else:\n",
    "    model = Qwen2VLForConditionalGeneration.from_pretrained(\n",
    "        MODEL_ID, \n",
    "        use_cache=False\n",
    "        )\n",
    "    \n",
    "processor = Qwen2VLProcessor.from_pretrained(MODEL_ID)\n",
    "processor.tokenizer.padding_side = \"right\""
   ]
  },
  {
   "cell_type": "code",
   "execution_count": 9,
   "metadata": {
    "execution": {
     "iopub.execute_input": "2025-01-05T15:18:30.318545Z",
     "iopub.status.busy": "2025-01-05T15:18:30.318143Z",
     "iopub.status.idle": "2025-01-05T15:23:19.375846Z",
     "shell.execute_reply": "2025-01-05T15:23:19.374796Z",
     "shell.execute_reply.started": "2025-01-05T15:18:30.318515Z"
    }
   },
   "outputs": [
    {
     "name": "stdout",
     "output_type": "stream",
     "text": [
      "Prompt: <|im_start|>system\n",
      "You are a highly advanced Vision Language Model (VLM), specialized in analyzing, describing, and interpreting visual data. \n",
      "Your task is to process and extract meaningful insights from images, videos, and visual patterns, \n",
      "leveraging multimodal understanding to provide accurate and contextually relevant information.<|im_end|>\n",
      "<|im_start|>user\n",
      "<|vision_start|><|image_pad|><|vision_end|>How many food item is shown in the bar graph?<|im_end|>\n",
      "<|im_start|>assistant\n",
      "\n",
      "------------------------------\n",
      "Generated Answer: system\n",
      "You are a highly advanced Vision Language Model (VLM), specialized in analyzing, describing, and interpreting visual data. \n",
      "Your task is to process and extract meaningful insights from images, videos, and visual patterns, \n",
      "leveraging multimodal understanding to provide accurate and contextually relevant information.\n",
      "user\n",
      "How many food item is shown in the bar graph?\n",
      "assistant\n",
      "The bar graph shows the long-term price index for 11 different food commodities. These commodities are:\n",
      "\n",
      "1. Corn\n",
      "2. Barley\n",
      "3. Rye\n",
      "4. Beef\n",
      "5. Wheat\n",
      "6. Coffee\n",
      "7. Tea\n",
      "8. Peanuts\n",
      "9. Pork\n",
      "10. Rice\n",
      "11. Sugar\n",
      "12. Cocoa\n",
      "\n",
      "So, there are 12 food items shown in the bar graph.\n",
      "Actual Answer: 14\n"
     ]
    }
   ],
   "source": [
    "def text_generator(sample_data):\n",
    "    text = processor.apply_chat_template(\n",
    "        sample_data[0:2], tokenize=False, add_generation_prompt=True\n",
    "    )\n",
    "\n",
    "    print(f\"Prompt: {text}\")\n",
    "    print(\"-\"*30)\n",
    "\n",
    "    image_inputs = sample_data[1][\"content\"][0][\"image\"]\n",
    "\n",
    "    inputs = processor(\n",
    "        text=[text],\n",
    "        images = image_inputs,\n",
    "        return_tensors=\"pt\"\n",
    "    )\n",
    "    inputs = inputs.to(device)\n",
    "\n",
    "    generated_ids = model.generate(**inputs, max_new_tokens=MAX_SEQ_LEN)\n",
    "\n",
    "    output_text = processor.batch_decode(\n",
    "        generated_ids, skip_special_tokens=True\n",
    "    )\n",
    "    del inputs\n",
    "    actual_answer = sample_data[2][\"content\"][0][\"text\"]\n",
    "    return output_text[0], actual_answer\n",
    "    \n",
    "\n",
    "generated_text, actual_answer = text_generator(sample_data)\n",
    "print(f\"Generated Answer: {generated_text}\")\n",
    "print(f\"Actual Answer: {actual_answer}\")"
   ]
  },
  {
   "cell_type": "code",
   "execution_count": 10,
   "metadata": {
    "execution": {
     "iopub.execute_input": "2025-01-05T15:27:41.050270Z",
     "iopub.status.busy": "2025-01-05T15:27:41.049767Z",
     "iopub.status.idle": "2025-01-05T15:27:41.166708Z",
     "shell.execute_reply": "2025-01-05T15:27:41.165672Z",
     "shell.execute_reply.started": "2025-01-05T15:27:41.050228Z"
    }
   },
   "outputs": [
    {
     "name": "stdout",
     "output_type": "stream",
     "text": [
      "Before adapter parameters: 8291375616\n",
      "trainable params: 2,523,136 || all params: 8,293,898,752 || trainable%: 0.0304\n"
     ]
    }
   ],
   "source": [
    "peft_config = LoraConfig(\n",
    "    lora_alpha=16,\n",
    "    lora_dropout=0.1,\n",
    "    r=8,\n",
    "    bias=\"none\",\n",
    "    target_modules=[\"q_proj\", \"v_proj\"],\n",
    "    task_type=\"CAUSAL_LM\",\n",
    ")\n",
    "\n",
    "print(f\"Before adapter parameters: {model.num_parameters()}\")\n",
    "peft_model = get_peft_model(model, peft_config)\n",
    "peft_model.print_trainable_parameters() # After LoRA trainable parameters increases. Since we add adapter."
   ]
  },
  {
   "cell_type": "code",
   "execution_count": 11,
   "metadata": {
    "execution": {
     "iopub.execute_input": "2025-01-05T15:31:09.251220Z",
     "iopub.status.busy": "2025-01-05T15:31:09.250765Z",
     "iopub.status.idle": "2025-01-05T15:31:09.288881Z",
     "shell.execute_reply": "2025-01-05T15:31:09.288228Z",
     "shell.execute_reply.started": "2025-01-05T15:31:09.251183Z"
    }
   },
   "outputs": [
    {
     "name": "stderr",
     "output_type": "stream",
     "text": [
      "Using the `WANDB_DISABLED` environment variable is deprecated and will be removed in v5. Use the --report_to flag to control the integrations used for logging result (for instance --report_to none).\n"
     ]
    }
   ],
   "source": [
    "training_args = SFTConfig(\n",
    "    output_dir=\"./output\",\n",
    "    num_train_epochs=EPOCHS,\n",
    "    per_device_train_batch_size=BATCH_SIZE,\n",
    "    per_device_eval_batch_size=BATCH_SIZE,\n",
    "    gradient_checkpointing=GRADIENT_CHECKPOINTING,\n",
    "    learning_rate=LEARNING_RATE,\n",
    "    logging_steps=LOGGING_STEPS,\n",
    "    eval_steps=EVAL_STEPS,\n",
    "    eval_strategy=EVAL_STRATEGY,\n",
    "    save_strategy=SAVE_STRATEGY,\n",
    "    save_steps=SAVE_STEPS,\n",
    "    metric_for_best_model=METRIC_FOR_BEST_MODEL,\n",
    "    load_best_model_at_end=LOAD_BEST_MODEL_AT_END,\n",
    "    max_grad_norm=MAX_GRAD_NORM,\n",
    "    warmup_steps=WARMUP_STEPS,\n",
    "    dataset_kwargs=DATASET_KWARGS,\n",
    "    max_seq_length=MAX_SEQ_LEN,\n",
    "    remove_unused_columns = REMOVE_UNUSED_COLUMNS,\n",
    "    optim=OPTIM,\n",
    ")"
   ]
  },
  {
   "cell_type": "code",
   "execution_count": 12,
   "metadata": {
    "execution": {
     "iopub.execute_input": "2025-01-05T15:37:31.494476Z",
     "iopub.status.busy": "2025-01-05T15:37:31.494077Z",
     "iopub.status.idle": "2025-01-05T15:37:31.531893Z",
     "shell.execute_reply": "2025-01-05T15:37:31.531034Z",
     "shell.execute_reply.started": "2025-01-05T15:37:31.494448Z"
    }
   },
   "outputs": [
    {
     "name": "stdout",
     "output_type": "stream",
     "text": [
      "dict_keys(['input_ids', 'attention_mask', 'pixel_values', 'image_grid_thw', 'labels'])\n"
     ]
    }
   ],
   "source": [
    "collate_sample = [train_dataset[0], train_dataset[1]] # for batch size 2.\n",
    "\n",
    "def collate_fn(examples):\n",
    "    texts = [processor.apply_chat_template(example, tokenize=False) for example in examples]\n",
    "    image_inputs = [example[1][\"content\"][0][\"image\"] for example in examples]\n",
    "\n",
    "    batch = processor(\n",
    "        text=texts, images=image_inputs, return_tensors=\"pt\", padding=True\n",
    "    )\n",
    "    labels = batch[\"input_ids\"].clone()\n",
    "    labels[labels == processor.tokenizer.pad_token_id] = -100\n",
    "    batch[\"labels\"] = batch[\"input_ids\"]\n",
    "\n",
    "    return batch\n",
    "\n",
    "collated_data = collate_fn(collate_sample)\n",
    "print(collated_data.keys())  # dict_keys(['input_ids', 'attention_mask', 'pixel_values', 'labels'])"
   ]
  },
  {
   "cell_type": "code",
   "execution_count": 13,
   "metadata": {
    "execution": {
     "iopub.execute_input": "2025-01-05T15:39:21.333547Z",
     "iopub.status.busy": "2025-01-05T15:39:21.333110Z",
     "iopub.status.idle": "2025-01-05T15:39:21.574428Z",
     "shell.execute_reply": "2025-01-05T15:39:21.573742Z",
     "shell.execute_reply.started": "2025-01-05T15:39:21.333516Z"
    }
   },
   "outputs": [],
   "source": [
    "trainer = SFTTrainer(\n",
    "    model=model,\n",
    "    args=training_args,\n",
    "    train_dataset=train_dataset,\n",
    "    eval_dataset=eval_dataset,\n",
    "    data_collator=collate_fn,\n",
    "    peft_config=peft_config,\n",
    "    processing_class=processor.tokenizer,\n",
    ")"
   ]
  },
  {
   "cell_type": "code",
   "execution_count": 14,
   "metadata": {
    "execution": {
     "iopub.execute_input": "2025-01-05T15:40:31.446595Z",
     "iopub.status.busy": "2025-01-05T15:40:31.446248Z",
     "iopub.status.idle": "2025-01-05T16:01:58.757399Z",
     "shell.execute_reply": "2025-01-05T16:01:58.756616Z",
     "shell.execute_reply.started": "2025-01-05T15:40:31.446571Z"
    }
   },
   "outputs": [
    {
     "name": "stdout",
     "output_type": "stream",
     "text": [
      "------------------------------\n",
      "Initial Evaluation\n"
     ]
    },
    {
     "data": {
      "text/html": [
       "\n",
       "    <div>\n",
       "      \n",
       "      <progress value='38' max='19' style='width:300px; height:20px; vertical-align: middle;'></progress>\n",
       "      [19/19 03:59]\n",
       "    </div>\n",
       "    "
      ],
      "text/plain": [
       "<IPython.core.display.HTML object>"
      ]
     },
     "metadata": {},
     "output_type": "display_data"
    },
    {
     "name": "stdout",
     "output_type": "stream",
     "text": [
      "{'eval_loss': 13.663281440734863, 'eval_model_preparation_time': 0.0051, 'eval_runtime': 27.1114, 'eval_samples_per_second': 0.701, 'eval_steps_per_second': 0.701}\n",
      "------------------------------\n",
      "Training\n"
     ]
    },
    {
     "data": {
      "text/html": [
       "\n",
       "    <div>\n",
       "      \n",
       "      <progress value='283' max='283' style='width:300px; height:20px; vertical-align: middle;'></progress>\n",
       "      [283/283 20:55, Epoch 1/1]\n",
       "    </div>\n",
       "    <table border=\"1\" class=\"dataframe\">\n",
       "  <thead>\n",
       " <tr style=\"text-align: left;\">\n",
       "      <th>Step</th>\n",
       "      <th>Training Loss</th>\n",
       "      <th>Validation Loss</th>\n",
       "      <th>Model Preparation Time</th>\n",
       "    </tr>\n",
       "  </thead>\n",
       "  <tbody>\n",
       "    <tr>\n",
       "      <td>50</td>\n",
       "      <td>13.399900</td>\n",
       "      <td>13.162066</td>\n",
       "      <td>0.005100</td>\n",
       "    </tr>\n",
       "    <tr>\n",
       "      <td>100</td>\n",
       "      <td>13.011000</td>\n",
       "      <td>12.112968</td>\n",
       "      <td>0.005100</td>\n",
       "    </tr>\n",
       "    <tr>\n",
       "      <td>150</td>\n",
       "      <td>11.357500</td>\n",
       "      <td>10.290619</td>\n",
       "      <td>0.005100</td>\n",
       "    </tr>\n",
       "    <tr>\n",
       "      <td>200</td>\n",
       "      <td>9.625100</td>\n",
       "      <td>8.639125</td>\n",
       "      <td>0.005100</td>\n",
       "    </tr>\n",
       "    <tr>\n",
       "      <td>250</td>\n",
       "      <td>8.455200</td>\n",
       "      <td>8.000521</td>\n",
       "      <td>0.005100</td>\n",
       "    </tr>\n",
       "  </tbody>\n",
       "</table><p>"
      ],
      "text/plain": [
       "<IPython.core.display.HTML object>"
      ]
     },
     "metadata": {},
     "output_type": "display_data"
    },
    {
     "name": "stdout",
     "output_type": "stream",
     "text": [
      "------------------------------\n"
     ]
    }
   ],
   "source": [
    "print(\"-\"*30)\n",
    "print(\"Initial Evaluation\")\n",
    "metric = trainer.evaluate()\n",
    "print(metric)\n",
    "print(\"-\"*30)\n",
    "\n",
    "print(\"Training\")\n",
    "trainer.train()\n",
    "print(\"-\"*30)"
   ]
  },
  {
   "cell_type": "code",
   "execution_count": 15,
   "metadata": {
    "execution": {
     "iopub.execute_input": "2025-01-05T16:06:30.581957Z",
     "iopub.status.busy": "2025-01-05T16:06:30.581599Z",
     "iopub.status.idle": "2025-01-05T16:06:31.361186Z",
     "shell.execute_reply": "2025-01-05T16:06:31.360230Z",
     "shell.execute_reply.started": "2025-01-05T16:06:30.581929Z"
    }
   },
   "outputs": [],
   "source": [
    "trainer.save_model(training_args.output_dir)"
   ]
  },
  {
   "cell_type": "code",
   "execution_count": 16,
   "metadata": {
    "execution": {
     "iopub.execute_input": "2025-01-05T16:07:19.619619Z",
     "iopub.status.busy": "2025-01-05T16:07:19.619123Z",
     "iopub.status.idle": "2025-01-05T16:07:28.800939Z",
     "shell.execute_reply": "2025-01-05T16:07:28.800194Z",
     "shell.execute_reply.started": "2025-01-05T16:07:19.619582Z"
    }
   },
   "outputs": [
    {
     "name": "stdout",
     "output_type": "stream",
     "text": [
      "GPU allocated memory: 0.02 GB\n",
      "GPU reserved memory: 0.07 GB\n"
     ]
    }
   ],
   "source": [
    "import gc\n",
    "import time\n",
    "\n",
    "# https://huggingface.co/learn/cookbook/en/fine_tuning_vlm_trl\n",
    "def clear_memory():\n",
    "    if \"inputs\" in globals():\n",
    "        del globals()[\"inputs\"]\n",
    "    if \"model\" in globals():\n",
    "        del globals()[\"model\"]\n",
    "    if \"processor\" in globals():\n",
    "        del globals()[\"processor\"]\n",
    "    if \"trainer\" in globals():\n",
    "        del globals()[\"trainer\"]\n",
    "    if \"peft_model\" in globals():\n",
    "        del globals()[\"peft_model\"]\n",
    "    if \"bnb_config\" in globals():\n",
    "        del globals()[\"bnb_config\"]\n",
    "    time.sleep(2)\n",
    "\n",
    "    gc.collect()\n",
    "    time.sleep(2)\n",
    "    torch.cuda.empty_cache()\n",
    "    torch.cuda.synchronize()\n",
    "    time.sleep(2)\n",
    "    gc.collect()\n",
    "    time.sleep(2)\n",
    "\n",
    "    print(f\"GPU allocated memory: {torch.cuda.memory_allocated() / 1024**3:.2f} GB\")\n",
    "    print(f\"GPU reserved memory: {torch.cuda.memory_reserved() / 1024**3:.2f} GB\")\n",
    "\n",
    "\n",
    "clear_memory()"
   ]
  },
  {
   "cell_type": "code",
   "execution_count": 17,
   "metadata": {
    "execution": {
     "iopub.execute_input": "2025-01-05T16:08:25.198056Z",
     "iopub.status.busy": "2025-01-05T16:08:25.197713Z",
     "iopub.status.idle": "2025-01-05T16:09:52.910598Z",
     "shell.execute_reply": "2025-01-05T16:09:52.909605Z",
     "shell.execute_reply.started": "2025-01-05T16:08:25.198033Z"
    }
   },
   "outputs": [
    {
     "data": {
      "application/vnd.jupyter.widget-view+json": {
       "model_id": "4877dc189fe5472d86f24b14fd984208",
       "version_major": 2,
       "version_minor": 0
      },
      "text/plain": [
       "Loading checkpoint shards:   0%|          | 0/5 [00:00<?, ?it/s]"
      ]
     },
     "metadata": {},
     "output_type": "display_data"
    }
   ],
   "source": [
    "if device == \"cuda\":\n",
    "    bnb_config = BitsAndBytesConfig(\n",
    "        load_in_4bit=True,\n",
    "        bnb_4bit_use_double_quant=True,\n",
    "        bnb_4bit_quant_type=\"nf4\",\n",
    "        bnb_4bit_compute_dtype=torch.bfloat16\n",
    "    )\n",
    "    model = Qwen2VLForConditionalGeneration.from_pretrained(\n",
    "        MODEL_ID, \n",
    "        device_map=\"auto\", \n",
    "        quantization_config=bnb_config,\n",
    "        use_cache=True\n",
    "        )\n",
    "\n",
    "else:\n",
    "    model = Qwen2VLForConditionalGeneration.from_pretrained(\n",
    "        MODEL_ID, \n",
    "        use_cache=True\n",
    "        )\n",
    "    \n",
    "processor = Qwen2VLProcessor.from_pretrained(MODEL_ID)\n",
    "processor.tokenizer.padding_side = \"right\""
   ]
  },
  {
   "cell_type": "code",
   "execution_count": 18,
   "metadata": {
    "execution": {
     "iopub.execute_input": "2025-01-05T16:11:32.046009Z",
     "iopub.status.busy": "2025-01-05T16:11:32.045621Z",
     "iopub.status.idle": "2025-01-05T16:11:32.251842Z",
     "shell.execute_reply": "2025-01-05T16:11:32.251065Z",
     "shell.execute_reply.started": "2025-01-05T16:11:32.045977Z"
    }
   },
   "outputs": [
    {
     "name": "stdout",
     "output_type": "stream",
     "text": [
      "Before adapter parameters: 8291375616\n",
      "After adapter parameters: 8293898752\n"
     ]
    }
   ],
   "source": [
    "print(f\"Before adapter parameters: {model.num_parameters()}\")\n",
    "model.load_adapter(\"./output\")\n",
    "print(f\"After adapter parameters: {model.num_parameters()}\")"
   ]
  },
  {
   "cell_type": "code",
   "execution_count": 19,
   "metadata": {
    "execution": {
     "iopub.execute_input": "2025-01-05T16:12:21.886086Z",
     "iopub.status.busy": "2025-01-05T16:12:21.885750Z",
     "iopub.status.idle": "2025-01-05T16:12:26.323915Z",
     "shell.execute_reply": "2025-01-05T16:12:26.322975Z",
     "shell.execute_reply.started": "2025-01-05T16:12:21.886057Z"
    }
   },
   "outputs": [
    {
     "name": "stdout",
     "output_type": "stream",
     "text": [
      "Prompt: <|im_start|>system\n",
      "You are a highly advanced Vision Language Model (VLM), specialized in analyzing, describing, and interpreting visual data. \n",
      "Your task is to process and extract meaningful insights from images, videos, and visual patterns, \n",
      "leveraging multimodal understanding to provide accurate and contextually relevant information.<|im_end|>\n",
      "<|im_start|>user\n",
      "<|vision_start|><|image_pad|><|vision_end|>How many food item is shown in the bar graph?<|im_end|>\n",
      "<|im_start|>assistant\n",
      "\n",
      "------------------------------\n",
      "Generated Answer: system\n",
      "You are a highly advanced Vision Language Model (VLM), specialized in analyzing, describing, and interpreting visual data. \n",
      "Your task is to process and extract meaningful insights from images, videos, and visual patterns, \n",
      "leveraging multimodal understanding to provide accurate and contextually relevant information.\n",
      "user\n",
      "How many food item is shown in the bar graph?\n",
      "assistant\n",
      "There are 11 food items shown in the bar graph.\n",
      "Actual Answer: 14\n"
     ]
    }
   ],
   "source": [
    "generated_text, actual_answer = text_generator(sample_data)\n",
    "print(f\"Generated Answer: {generated_text}\")\n",
    "print(f\"Actual Answer: {actual_answer}\")"
   ]
  }
 ],
 "metadata": {
  "kaggle": {
   "accelerator": "gpu",
   "dataSources": [],
   "dockerImageVersionId": 30823,
   "isGpuEnabled": true,
   "isInternetEnabled": true,
   "language": "python",
   "sourceType": "notebook"
  },
  "kernelspec": {
   "display_name": "Python (Vitara)",
   "language": "python",
   "name": "vitara"
  },
  "language_info": {
   "codemirror_mode": {
    "name": "ipython",
    "version": 3
   },
   "file_extension": ".py",
   "mimetype": "text/x-python",
   "name": "python",
   "nbconvert_exporter": "python",
   "pygments_lexer": "ipython3",
   "version": "3.9.22"
  }
 },
 "nbformat": 4,
 "nbformat_minor": 4
}
